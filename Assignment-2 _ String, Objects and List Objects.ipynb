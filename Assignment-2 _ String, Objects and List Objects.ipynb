{
 "cells": [
  {
   "cell_type": "markdown",
   "id": "a9bbd4fa",
   "metadata": {},
   "source": [
    "Problem Satetement 1:\n",
    "    \n",
    "1. Create the below pattern using nested for loop in Python.\n",
    "\n"
   ]
  },
  {
   "cell_type": "code",
   "execution_count": 4,
   "id": "c71b86d0",
   "metadata": {},
   "outputs": [
    {
     "data": {
      "text/plain": [
       "'\\n\\n*\\n* *\\n* * *\\n* * * *\\n* * * * *\\n* * * *\\n* * *\\n* *\\n* \\n\\n'"
      ]
     },
     "execution_count": 4,
     "metadata": {},
     "output_type": "execute_result"
    }
   ],
   "source": [
    "\"\"\"\n",
    "\n",
    "*\n",
    "* *\n",
    "* * *\n",
    "* * * *\n",
    "* * * * *\n",
    "* * * *\n",
    "* * *\n",
    "* *\n",
    "* \n",
    "\n",
    "\"\"\""
   ]
  },
  {
   "cell_type": "code",
   "execution_count": null,
   "id": "71846468",
   "metadata": {},
   "outputs": [],
   "source": [
    "#Solution\n",
    "\n",
    "# for loop to create first part of pattern\n",
    "n=5\n",
    "\n",
    "print(\"Output:\")\n",
    "\n",
    "for i in range(n):\n",
    "    for j in range(i):\n",
    "        print('* ',end=\"\")\n",
    "    print('')\n",
    "# another for loop to create rest part of pattern\n",
    "for i in range(n,0,-1):\n",
    "    for j in range(i):\n",
    "        print('* ', end=\"\")\n",
    "    print('')    \n",
    "    \n",
    "    \n",
    "    "
   ]
  },
  {
   "cell_type": "markdown",
   "id": "e5dac0c2",
   "metadata": {},
   "source": [
    "Problem Satetement 2:\n",
    "\n",
    "2. Write a Python program to reverse a word after accepting the input from the user.\n",
    "\n",
    "Sample Output :\n",
    "    \n",
    "Input word: ineuron\n",
    "Output: norueni"
   ]
  },
  {
   "cell_type": "code",
   "execution_count": 2,
   "id": "9548fe35",
   "metadata": {},
   "outputs": [
    {
     "name": "stdout",
     "output_type": "stream",
     "text": [
      "Input string : INEURON\n",
      "Output string : NORUENI\n"
     ]
    }
   ],
   "source": [
    "#Solution:   \n",
    "\n",
    "#This code is wrong !!!!!\n",
    "\n",
    "#using in-built function \"reversed()\"\n",
    "\n",
    "def reverse_String(inputString):\n",
    "    output_String=\"\".join(reversed(inputString))\n",
    "    return output_String\n",
    "\n",
    "# Input\n",
    "\n",
    "input_String = \"INEURON\"\n",
    "\n",
    "#Function Execution\n",
    "output_String =reverse_String(input_String)\n",
    "\n",
    "#Output\n",
    "print(\"Input string :\",input_String)\n",
    "print(\"Output string :\",output_String)\n",
    "    "
   ]
  },
  {
   "cell_type": "code",
   "execution_count": null,
   "id": "37636cdc",
   "metadata": {},
   "outputs": [],
   "source": [
    "\n",
    "\n",
    "\n"
   ]
  },
  {
   "cell_type": "code",
   "execution_count": null,
   "id": "617af787",
   "metadata": {},
   "outputs": [],
   "source": []
  }
 ],
 "metadata": {
  "kernelspec": {
   "display_name": "Python 3 (ipykernel)",
   "language": "python",
   "name": "python3"
  },
  "language_info": {
   "codemirror_mode": {
    "name": "ipython",
    "version": 3
   },
   "file_extension": ".py",
   "mimetype": "text/x-python",
   "name": "python",
   "nbconvert_exporter": "python",
   "pygments_lexer": "ipython3",
   "version": "3.9.7"
  }
 },
 "nbformat": 4,
 "nbformat_minor": 5
}
