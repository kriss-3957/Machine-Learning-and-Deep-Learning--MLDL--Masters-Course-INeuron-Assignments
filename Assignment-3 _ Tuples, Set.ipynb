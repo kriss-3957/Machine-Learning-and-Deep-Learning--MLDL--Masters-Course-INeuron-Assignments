{
 "cells": [
  {
   "cell_type": "markdown",
   "id": "ec94b4ea",
   "metadata": {},
   "source": [
    "Problem Statement 1.1:\n",
    "    \n",
    "1.1 Write a Python Program to implement your own myreduce() function which works exactly\n",
    "like Python's built-in function reduce()"
   ]
  },
  {
   "cell_type": "code",
   "execution_count": 1,
   "id": "48b6f268",
   "metadata": {},
   "outputs": [
    {
     "name": "stdout",
     "output_type": "stream",
     "text": [
      "120\n"
     ]
    }
   ],
   "source": [
    "# Using Python's built-in reduce() function to compute the product of all the elements of a given List\n",
    " \n",
    "from functools import reduce\n",
    "list1 = [1, 2, 3,4,5]\n",
    " \n",
    "result1 = reduce((lambda x, y: x * y), list1)\n",
    "print(result1)\n"
   ]
  },
  {
   "cell_type": "code",
   "execution_count": 2,
   "id": "8dbf442d",
   "metadata": {},
   "outputs": [
    {
     "name": "stdout",
     "output_type": "stream",
     "text": [
      "120\n"
     ]
    }
   ],
   "source": [
    "#Defining our own myreduce() function that works exactly like the reduce() function above\n",
    "\n",
    "def myreduce(myList) :\n",
    "    result = 1\n",
    "    for i in myList:\n",
    "         result = result * i\n",
    "    return result\n",
    "     \n",
    "list1 = [1,2,3,4,5]\n",
    "print(myreduce(list1))\n"
   ]
  },
  {
   "cell_type": "markdown",
   "id": "024de528",
   "metadata": {},
   "source": [
    "Problem Statement 1.2:\n",
    "\n",
    "1.2 Write a Python program to implement your own myfilter() function which works exactly like Python's built-in function filter()"
   ]
  },
  {
   "cell_type": "code",
   "execution_count": 3,
   "id": "b33babe0",
   "metadata": {},
   "outputs": [
    {
     "name": "stdout",
     "output_type": "stream",
     "text": [
      "The even numners are: [2, 4]\n"
     ]
    }
   ],
   "source": [
    "#Python program to filter out 'Even' numbers from a given List \n",
    "#Solution using Python's built-in filter() function\n",
    "\n",
    "def even(x):\n",
    "    return x % 2 == 0\n",
    "\n",
    "list_1 = [1,2,3,4,5]\n",
    "filter = list(filter(even, list_1))\n",
    "\n",
    "print(\"The even numners are:\", filter)\n",
    "\n"
   ]
  },
  {
   "cell_type": "code",
   "execution_count": 4,
   "id": "d78cef27",
   "metadata": {},
   "outputs": [
    {
     "name": "stdout",
     "output_type": "stream",
     "text": [
      "The even numners are: [2, 4]\n"
     ]
    }
   ],
   "source": [
    "#Defining our own myfilter() function that works exactly like the filter() function above\n",
    "\n",
    "def myfilter(even, values):\n",
    "    result = list()\n",
    "    for i in values:\n",
    "        if even(i):\n",
    "            result.append(i)\n",
    "    return result\n",
    "\n",
    "def even(x):\n",
    "    if x % 2 == 0:\n",
    "        return True\n",
    "    else:\n",
    "        return False\n",
    "\n",
    "list_1 = [1,2,3,4,5]\n",
    "print(\"The even numners are:\", myfilter(even, list_1))"
   ]
  },
  {
   "cell_type": "code",
   "execution_count": null,
   "id": "c98e009d",
   "metadata": {},
   "outputs": [],
   "source": []
  },
  {
   "cell_type": "markdown",
   "id": "bcea7f44",
   "metadata": {},
   "source": [
    "Problem Statement 2:\n",
    "\n",
    "2. Implement List comprehensions to produce the following lists.\n",
    "Write List comprehensions to produce the following Lists\n",
    "\n",
    "<br> ['x', 'xx', 'xxx', 'xxxx', 'y', 'yy', 'yyy', 'yyyy', 'z', 'zz', 'zzz', 'zzzz']\n",
    "<br> ['x', 'y', 'z', 'xx', 'yy', 'zz', 'xxx', 'yyy', 'zzz', 'xxxx', 'yyyy', 'zzzz']\n",
    "<br> [[2], [3], [4], [3], [4], [5], [4], [5], [6]] <br>[[2, 3, 4, 5], [3, 4, 5, 6],\n",
    "[4, 5, 6, 7], [5, 6, 7, 8]]\n",
    "<br> [(1, 1), (2, 1), (3, 1), (1, 2), (2, 2), (3, 2), (1, 3), (2, 3), (3, 3)]"
   ]
  },
  {
   "cell_type": "code",
   "execution_count": 5,
   "id": "08649011",
   "metadata": {},
   "outputs": [
    {
     "name": "stdout",
     "output_type": "stream",
     "text": [
      "['x', 'xx', 'xxx', 'xxxx', 'y', 'yy', 'yyy', 'yyyy', 'z', 'zz', 'zzz', 'zzzz']\n",
      "['x', 'y', 'z', 'xx', 'yy', 'zz', 'xxx', 'yyy', 'zzz', 'xxxx', 'yyyy', 'zzzz']\n",
      "[[2], [3], [4], [3], [4], [5], [4], [5], [6]]\n",
      "[[2, 3, 4, 5], [3, 4, 5, 6], [4, 5, 6, 7], [5, 6, 7, 8]]\n",
      "[(1, 1), (2, 1), (3, 1), (1, 2), (2, 2), (3, 2), (1, 3), (2, 3), (3, 3)]\n"
     ]
    }
   ],
   "source": [
    "#Solution\n",
    "\n",
    "#List 1\n",
    "List =list('xyz')\n",
    "List_1 =[x*n for x in List for n in range(1,5) ]\n",
    "print(List_1)\n",
    "\n",
    "#List 2\n",
    "List_2 =[x*n for n in range(1,5) for x in List ]\n",
    "print(List_2)\n",
    "\n",
    "#List 3\n",
    "List =[2,3,4]\n",
    "List_3 =[[x+n] for x in List for n in range(0,3)]\n",
    "print(List_3)\n",
    "\n",
    "#List 4\n",
    "List =[2,3,4,5]\n",
    "List_4=[[x+n for n in range(0,4)] for x in List ]\n",
    "print(List_4)\n",
    "\n",
    "#List 5\n",
    "List=[1,2,3]\n",
    "List_5= [(b,a) for a in List for b in List]\n",
    "print(List_5)\n"
   ]
  },
  {
   "cell_type": "code",
   "execution_count": null,
   "id": "f9642d76",
   "metadata": {},
   "outputs": [],
   "source": []
  },
  {
   "cell_type": "code",
   "execution_count": null,
   "id": "79ec50a5",
   "metadata": {},
   "outputs": [],
   "source": []
  },
  {
   "cell_type": "code",
   "execution_count": null,
   "id": "5c5e8240",
   "metadata": {},
   "outputs": [],
   "source": []
  }
 ],
 "metadata": {
  "kernelspec": {
   "display_name": "Python 3 (ipykernel)",
   "language": "python",
   "name": "python3"
  },
  "language_info": {
   "codemirror_mode": {
    "name": "ipython",
    "version": 3
   },
   "file_extension": ".py",
   "mimetype": "text/x-python",
   "name": "python",
   "nbconvert_exporter": "python",
   "pygments_lexer": "ipython3",
   "version": "3.9.7"
  }
 },
 "nbformat": 4,
 "nbformat_minor": 5
}
